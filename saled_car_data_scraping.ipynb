{
 "cells": [
  {
   "cell_type": "code",
   "execution_count": 2,
   "metadata": {},
   "outputs": [],
   "source": [
    "from selenium.webdriver.common.by import By\n",
    "from selenium import webdriver\n",
    "import time\n",
    "import math\n",
    "import pandas as pd\n",
    "import numpy as np"
   ]
  },
  {
   "cell_type": "markdown",
   "metadata": {},
   "source": [
    "##### You should specify the path to the chromedriver that is located in your computer and assign it to the path variable below."
   ]
  },
  {
   "cell_type": "code",
   "execution_count": 3,
   "metadata": {},
   "outputs": [
    {
     "name": "stderr",
     "output_type": "stream",
     "text": [
      "/var/folders/7_/hrpf2wd52k91vfg1qd2m7ch80000gn/T/ipykernel_5311/3681283350.py:5: DeprecationWarning: executable_path has been deprecated, please pass in a Service object\n",
      "  driver = webdriver.Chrome(path)\n"
     ]
    }
   ],
   "source": [
    "url = 'https://en.bidfax.info/'\n",
    "path = '/Users/areg/.wdm/drivers/chromedriver/mac64/108.0.5359/chromedriver'\n",
    "# You should specify the path of the chromedriver in the brackets \n",
    "# that are in front of path variable above\n",
    "driver = webdriver.Chrome(path)\n",
    "driver.get(url)"
   ]
  },
  {
   "cell_type": "markdown",
   "metadata": {},
   "source": [
    "#### After calling select_make() function it will ask you to input a make of a car and then it will select it. If that make will not exit it will tell you to put the existing one."
   ]
  },
  {
   "cell_type": "code",
   "execution_count": 4,
   "metadata": {},
   "outputs": [],
   "source": [
    "def select_make():\n",
    "    dropdown = driver.find_elements(By.XPATH, '//span[@class = \"drop-down\"]' )\n",
    "    make = str(input('Please write the make you want to select:  '))\n",
    "    def search_for_make(make):\n",
    "        try:\n",
    "            dropdown[0].click()\n",
    "        except:\n",
    "            pass\n",
    "        try:\n",
    "            make_ = driver.find_element(By.LINK_TEXT, make)\n",
    "            make_.click()\n",
    "            print(f\"{make} make is selected successfully!\")\n",
    "        except:\n",
    "            print(f'{make} make does not exist in this list. Please try again.')\n",
    "            return select_make()\n",
    "    search_for_make(make)"
   ]
  },
  {
   "cell_type": "markdown",
   "metadata": {},
   "source": [
    "#### After calling select_model() fucntion it will ask you to input a model of a car and then it will select it. If that make will not exit it will tell you to put the existing one."
   ]
  },
  {
   "cell_type": "code",
   "execution_count": 5,
   "metadata": {},
   "outputs": [],
   "source": [
    "def select_model():\n",
    "    dropdown = driver.find_elements(By.XPATH, '//span[@class = \"drop-down\"]' )\n",
    "    model = str(input('Please write the model you want to select:  '))\n",
    "    def search_for_model(model):\n",
    "        try:\n",
    "            dropdown[1].click()\n",
    "        except:\n",
    "            pass\n",
    "        try:\n",
    "            model_ = driver.find_element(By.LINK_TEXT, model)\n",
    "            model_.click()\n",
    "            print(f\"{model} model is selected successfully!\")\n",
    "        except:\n",
    "            print(f'{model} model does not exist in this list. Please try again.')\n",
    "            return select_model()\n",
    "    search_for_model(model)  "
   ]
  },
  {
   "cell_type": "markdown",
   "metadata": {},
   "source": [
    "#### After calling select_year_start() function below it will ask you to input the starting year of a car you want to search for and then it will select it. If that make will not exit it will tell you to put the existing one. Call the select_year_start function after calling select_make() and select_model() functions"
   ]
  },
  {
   "cell_type": "code",
   "execution_count": 6,
   "metadata": {},
   "outputs": [],
   "source": [
    "def select_year_start():\n",
    "    def scrape_years():\n",
    "        global years\n",
    "        years_dropdown = driver.find_element(By.XPATH, '//div[@class = \"filter_right\"]')\n",
    "        years = years_dropdown.find_elements(By.XPATH, ('./select'))\n",
    "    scrape_years()\n",
    "    start = str(input(\"Type in the starting year of the car:  \"))\n",
    "    def year_start(start):   \n",
    "        year_start = years[0]\n",
    "        try:\n",
    "            year_start = year_start.find_elements(By.XPATH, (\"./option\"))\n",
    "            for year in year_start:\n",
    "                if year.text == start:\n",
    "                    print(f\"{start} year is selected successfully!\")\n",
    "                    return year.click()\n",
    "            raise print(f\"{start} year does not exist. Please try again.\")\n",
    "        except:\n",
    "            return select_year_start()\n",
    "    year_start(start)"
   ]
  },
  {
   "cell_type": "markdown",
   "metadata": {},
   "source": [
    "#### After calling select_year_to() function it will ask you to input the ending year of a car you want to search for and then it will select it. If that make will not exit it will tell you to put the existing one.  Call the select_year_start function after calling select_make() and select_model() functions"
   ]
  },
  {
   "cell_type": "code",
   "execution_count": 7,
   "metadata": {},
   "outputs": [],
   "source": [
    "def select_year_to():\n",
    "    def scrape_years():\n",
    "        global years\n",
    "        years_dropdown = driver.find_element(By.XPATH, '//div[@class = \"filter_right\"]')\n",
    "        years = years_dropdown.find_elements(By.XPATH, ('./select'))    \n",
    "    scrape_years()\n",
    "    to = str(input(\"Type in the ending year of the car:  \"))\n",
    "    def year_end(year_to):   \n",
    "        year_to = years[1]\n",
    "        try:\n",
    "            year_to = year_to.find_elements(By.XPATH, (\"./option\"))\n",
    "            for year in year_to:\n",
    "                if year.text == to:\n",
    "                    print(f\"{to} year is selected successfully!\")\n",
    "                    return year.click()\n",
    "            raise print(f\"{to} year does not exist. Please try again.\")\n",
    "        except:\n",
    "            return select_year_to()\n",
    "    year_end(to)\n",
    "    "
   ]
  },
  {
   "cell_type": "markdown",
   "metadata": {},
   "source": [
    "#### The function scrape_page() scrape's the useful data from the website and store's it in lists. You don't have to call this function because it is called in the create_df() and add_next_pages() functions that are listed below."
   ]
  },
  {
   "cell_type": "code",
   "execution_count": 8,
   "metadata": {},
   "outputs": [],
   "source": [
    "def scrape_page():\n",
    "    def scrape_data():\n",
    "        global ln_dmg_dos_scraped; global ln_dmg_dos_scraped2; global prices_scraped\n",
    "        prices_scraped = driver.find_elements(By.XPATH, '//span[@class = \"prices\"]')\n",
    "        ln_dmg_dos_scraped = driver.find_elements(By.XPATH, '//p[@class = \"short-story\"]')\n",
    "        ln_dmg_dos_scraped2 = driver.find_elements(By.XPATH, '//p[@class = \"short-story2\"]')\n",
    "    def scrap_prices():\n",
    "        global prices\n",
    "        prices = []\n",
    "        for price in prices_scraped:\n",
    "            if price.text != '':\n",
    "                prices.append(price.text)\n",
    "    def scrape_lot_numbers():\n",
    "        global lot_numbers\n",
    "        lot_numbers = []\n",
    "        for element in ln_dmg_dos_scraped:\n",
    "            if 'Lot number' in element.text:\n",
    "                lot_numbers.append(element.find_element(By.XPATH, 'span[@class = \"blackfont\"]').text)\n",
    "    def scrape_conditions():\n",
    "        global conditions\n",
    "        conditions = []\n",
    "        for element in ln_dmg_dos_scraped2:\n",
    "            if 'Condition' in element.text:\n",
    "                conditions.append(element.find_element(By.XPATH, 'span[@class = \"blackfont\"]').text)\n",
    "    def scrape_damages():\n",
    "        global damages\n",
    "        damages = []\n",
    "        for element in ln_dmg_dos_scraped:\n",
    "            if 'Damage' in element.text:\n",
    "                damages.append(element.find_element(By.XPATH, 'span[@class = \"blackfont\"]').text)\n",
    "    def scrape_mileages():\n",
    "        global mileages\n",
    "        mileages = []\n",
    "        for element in ln_dmg_dos_scraped2:\n",
    "            if 'Mileage' in element.text:\n",
    "                mileages.append(element.find_element(By.XPATH, 'span[@class = \"blackfont\"]').text)\n",
    "    def scrape_dates_of_sale():\n",
    "        global dates_of_sale\n",
    "        dates_of_sale = []\n",
    "        for element in ln_dmg_dos_scraped:\n",
    "            if 'Date' in element.text:\n",
    "                dates_of_sale.append(str(element.find_element(By.XPATH, 'span[@class = \"blackfont\"]').text))\n",
    "    def dict_data():\n",
    "        global columns_; global data_\n",
    "        columns_ = ['lot_number', 'condition', 'damage', 'mileage', 'date_of_sale','price' ]\n",
    "        data_ = [lot_numbers, conditions, damages, mileages, dates_of_sale, prices]\n",
    "    scrape_data()\n",
    "    scrape_conditions()\n",
    "    scrap_prices()\n",
    "    scrape_dates_of_sale()\n",
    "    scrape_lot_numbers()\n",
    "    scrape_mileages()\n",
    "    scrape_damages()\n",
    "    dict_data()"
   ]
  },
  {
   "cell_type": "markdown",
   "metadata": {},
   "source": [
    "#### After calling create_df() function it will create a dictionary using data stored in lists created from scrape_page() function and then it will create a dataframe with the dictionary."
   ]
  },
  {
   "cell_type": "code",
   "execution_count": 9,
   "metadata": {},
   "outputs": [],
   "source": [
    "def create_df():\n",
    "    time.sleep(3)\n",
    "    scrape_page()\n",
    "    df_data = {}\n",
    "    for i, j in zip(columns_, data_):\n",
    "        df_data[i]= j\n",
    "    global df\n",
    "    df = pd.DataFrame(df_data)\n"
   ]
  },
  {
   "cell_type": "markdown",
   "metadata": {},
   "source": [
    "#### For calling the function add_next_page() you have to type in the number of pages you want to add to your dataframe that you created already by create_df() function. Call add_next_pages() function after calling create_df() function."
   ]
  },
  {
   "cell_type": "code",
   "execution_count": 10,
   "metadata": {},
   "outputs": [],
   "source": [
    "def add_next_pages(count):\n",
    "    def next_page():\n",
    "        next_page = driver.find_element(By.LINK_TEXT, '»')\n",
    "        next_page.click()\n",
    "    def add_to_df():\n",
    "        scrape_page()\n",
    "        df_data = {}\n",
    "        global df\n",
    "        for i, j in zip(columns_, data_):\n",
    "            df_data[i] = j\n",
    "        df1 = pd.DataFrame(df_data)\n",
    "        df = df.append(df1)\n",
    "        df = df.reset_index(drop = True)\n",
    "    for i in range(int(count)):\n",
    "        next_page()\n",
    "        add_to_df()"
   ]
  },
  {
   "cell_type": "markdown",
   "metadata": {},
   "source": [
    "#### After calling all functions above the date of cars in the dataframe will be in one column. The modify_dates() function separates the day, month and the year and creates separate columns with them."
   ]
  },
  {
   "cell_type": "code",
   "execution_count": 11,
   "metadata": {},
   "outputs": [],
   "source": [
    "def modify_dates():\n",
    "    \n",
    "    days = []\n",
    "    for i in df['date_of_sale']:\n",
    "        days.append(i[:2])\n",
    "    df['day'] = days\n",
    "\n",
    "    months = []\n",
    "    for i in df['date_of_sale']:\n",
    "        months.append(i[3:5])\n",
    "    df['month'] = months\n",
    "    \n",
    "    years = []\n",
    "    for i in df['date_of_sale']:\n",
    "        years.append(i[6:])\n",
    "    df['year'] = years\n",
    "    df.drop('date_of_sale', axis = 'columns', inplace = True)\n",
    "    df['day'].astype(dtype = int, copy = False)\n",
    "    df['month'].astype(dtype = int, copy = False)\n",
    "    df['year'].astype(dtype = int, copy = False)"
   ]
  },
  {
   "cell_type": "code",
   "execution_count": 12,
   "metadata": {},
   "outputs": [
    {
     "name": "stdout",
     "output_type": "stream",
     "text": [
      "Volkswagen make is selected successfully!\n"
     ]
    }
   ],
   "source": [
    "select_make()"
   ]
  },
  {
   "cell_type": "code",
   "execution_count": 13,
   "metadata": {},
   "outputs": [
    {
     "name": "stdout",
     "output_type": "stream",
     "text": [
      "Gti model is selected successfully!\n"
     ]
    }
   ],
   "source": [
    "select_model()"
   ]
  },
  {
   "cell_type": "code",
   "execution_count": 14,
   "metadata": {},
   "outputs": [
    {
     "name": "stdout",
     "output_type": "stream",
     "text": [
      "2017 year is selected successfully!\n"
     ]
    }
   ],
   "source": [
    "select_year_start()"
   ]
  },
  {
   "cell_type": "code",
   "execution_count": 15,
   "metadata": {},
   "outputs": [
    {
     "name": "stdout",
     "output_type": "stream",
     "text": [
      "2020 year is selected successfully!\n"
     ]
    }
   ],
   "source": [
    "select_year_to()"
   ]
  },
  {
   "cell_type": "code",
   "execution_count": 16,
   "metadata": {},
   "outputs": [],
   "source": [
    "create_df()"
   ]
  },
  {
   "cell_type": "code",
   "execution_count": 17,
   "metadata": {},
   "outputs": [
    {
     "name": "stderr",
     "output_type": "stream",
     "text": [
      "/var/folders/7_/hrpf2wd52k91vfg1qd2m7ch80000gn/T/ipykernel_5311/2061226291.py:12: FutureWarning: The frame.append method is deprecated and will be removed from pandas in a future version. Use pandas.concat instead.\n",
      "  df = df.append(df1)\n"
     ]
    }
   ],
   "source": [
    "#You can write any amount of pages between the \n",
    "#brackets of add_next_pages() function below\n",
    "add_next_pages(3)"
   ]
  },
  {
   "cell_type": "code",
   "execution_count": 18,
   "metadata": {},
   "outputs": [],
   "source": [
    "modify_dates()\n",
    "driver.close()"
   ]
  },
  {
   "cell_type": "code",
   "execution_count": 19,
   "metadata": {},
   "outputs": [
    {
     "data": {
      "text/html": [
       "<div>\n",
       "<style scoped>\n",
       "    .dataframe tbody tr th:only-of-type {\n",
       "        vertical-align: middle;\n",
       "    }\n",
       "\n",
       "    .dataframe tbody tr th {\n",
       "        vertical-align: top;\n",
       "    }\n",
       "\n",
       "    .dataframe thead th {\n",
       "        text-align: right;\n",
       "    }\n",
       "</style>\n",
       "<table border=\"1\" class=\"dataframe\">\n",
       "  <thead>\n",
       "    <tr style=\"text-align: right;\">\n",
       "      <th></th>\n",
       "      <th>lot_number</th>\n",
       "      <th>condition</th>\n",
       "      <th>damage</th>\n",
       "      <th>mileage</th>\n",
       "      <th>price</th>\n",
       "      <th>day</th>\n",
       "      <th>month</th>\n",
       "      <th>year</th>\n",
       "    </tr>\n",
       "  </thead>\n",
       "  <tbody>\n",
       "    <tr>\n",
       "      <th>0</th>\n",
       "      <td>73140642</td>\n",
       "      <td>Run And Drive</td>\n",
       "      <td>Minor Dent/Scratches</td>\n",
       "      <td>18405 miles (Actual)</td>\n",
       "      <td>8900</td>\n",
       "      <td>27</td>\n",
       "      <td>01</td>\n",
       "      <td>2023</td>\n",
       "    </tr>\n",
       "    <tr>\n",
       "      <th>1</th>\n",
       "      <td>73369772</td>\n",
       "      <td>Engine Start Program</td>\n",
       "      <td>Front End</td>\n",
       "      <td>76675 miles (Actual)</td>\n",
       "      <td>1150</td>\n",
       "      <td>26</td>\n",
       "      <td>01</td>\n",
       "      <td>2023</td>\n",
       "    </tr>\n",
       "    <tr>\n",
       "      <th>2</th>\n",
       "      <td>72185972</td>\n",
       "      <td>Run And Drive</td>\n",
       "      <td>Side</td>\n",
       "      <td>143759 miles (Actual)</td>\n",
       "      <td>3200</td>\n",
       "      <td>26</td>\n",
       "      <td>01</td>\n",
       "      <td>2023</td>\n",
       "    </tr>\n",
       "    <tr>\n",
       "      <th>3</th>\n",
       "      <td>37939813</td>\n",
       "      <td>Run And Drive</td>\n",
       "      <td>Front End</td>\n",
       "      <td>58565 miles (Actual)</td>\n",
       "      <td>6600</td>\n",
       "      <td>26</td>\n",
       "      <td>01</td>\n",
       "      <td>2023</td>\n",
       "    </tr>\n",
       "    <tr>\n",
       "      <th>4</th>\n",
       "      <td>73506952</td>\n",
       "      <td>Enhanced Vehicles</td>\n",
       "      <td>Front End</td>\n",
       "      <td>0 miles (Not Actual)</td>\n",
       "      <td>650</td>\n",
       "      <td>25</td>\n",
       "      <td>01</td>\n",
       "      <td>2023</td>\n",
       "    </tr>\n",
       "  </tbody>\n",
       "</table>\n",
       "</div>"
      ],
      "text/plain": [
       "  lot_number             condition                damage  \\\n",
       "0   73140642         Run And Drive  Minor Dent/Scratches   \n",
       "1   73369772  Engine Start Program             Front End   \n",
       "2   72185972         Run And Drive                  Side   \n",
       "3   37939813         Run And Drive             Front End   \n",
       "4   73506952     Enhanced Vehicles             Front End   \n",
       "\n",
       "                 mileage price day month  year  \n",
       "0   18405 miles (Actual)  8900  27    01  2023  \n",
       "1   76675 miles (Actual)  1150  26    01  2023  \n",
       "2  143759 miles (Actual)  3200  26    01  2023  \n",
       "3   58565 miles (Actual)  6600  26    01  2023  \n",
       "4   0 miles (Not Actual)   650  25    01  2023  "
      ]
     },
     "execution_count": 19,
     "metadata": {},
     "output_type": "execute_result"
    }
   ],
   "source": [
    "df.head()"
   ]
  },
  {
   "cell_type": "code",
   "execution_count": 1,
   "metadata": {},
   "outputs": [
    {
     "ename": "NameError",
     "evalue": "name 'df' is not defined",
     "output_type": "error",
     "traceback": [
      "\u001b[0;31m---------------------------------------------------------------------------\u001b[0m",
      "\u001b[0;31mNameError\u001b[0m                                 Traceback (most recent call last)",
      "Cell \u001b[0;32mIn [1], line 1\u001b[0m\n\u001b[0;32m----> 1\u001b[0m df\u001b[39m.\u001b[39mtail()\n",
      "\u001b[0;31mNameError\u001b[0m: name 'df' is not defined"
     ]
    }
   ],
   "source": [
    "df.tail()"
   ]
  }
 ],
 "metadata": {
  "kernelspec": {
   "display_name": "Python 3.11.0 64-bit",
   "language": "python",
   "name": "python3"
  },
  "language_info": {
   "codemirror_mode": {
    "name": "ipython",
    "version": 3
   },
   "file_extension": ".py",
   "mimetype": "text/x-python",
   "name": "python",
   "nbconvert_exporter": "python",
   "pygments_lexer": "ipython3",
   "version": "3.11.0"
  },
  "orig_nbformat": 4,
  "vscode": {
   "interpreter": {
    "hash": "949777d72b0d2535278d3dc13498b2535136f6dfe0678499012e853ee9abcab1"
   }
  }
 },
 "nbformat": 4,
 "nbformat_minor": 2
}
