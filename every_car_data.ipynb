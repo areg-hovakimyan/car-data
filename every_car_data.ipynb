{
 "cells": [
  {
   "cell_type": "code",
   "execution_count": 1,
   "metadata": {},
   "outputs": [],
   "source": [
    "from selenium.webdriver.common.by import By\n",
    "from selenium import webdriver\n",
    "import time\n",
    "import pandas as pd"
   ]
  },
  {
   "cell_type": "markdown",
   "metadata": {},
   "source": [
    "##### You should specify the path to the chromedriver that is located in your computer and assign it to the path variable below."
   ]
  },
  {
   "cell_type": "code",
   "execution_count": 2,
   "metadata": {},
   "outputs": [
    {
     "name": "stderr",
     "output_type": "stream",
     "text": [
      "/var/folders/7_/hrpf2wd52k91vfg1qd2m7ch80000gn/T/ipykernel_22936/3681283350.py:5: DeprecationWarning: executable_path has been deprecated, please pass in a Service object\n",
      "  driver = webdriver.Chrome(path)\n"
     ]
    }
   ],
   "source": [
    "url = 'https://en.bidfax.info/'\n",
    "path = '/Users/areg/.wdm/drivers/chromedriver/mac64/108.0.5359/chromedriver'\n",
    "# You should specify the path of the chromedriver in the brackets \n",
    "# that are in front of path variable above\n",
    "driver = webdriver.Chrome(path)\n",
    "driver.get(url)"
   ]
  },
  {
   "cell_type": "markdown",
   "metadata": {},
   "source": [
    "#### After calling select_make() function it will ask you to input a make of a car and then it will select it. If that make will not exit it will tell you to put the existing one."
   ]
  },
  {
   "cell_type": "code",
   "execution_count": 3,
   "metadata": {},
   "outputs": [],
   "source": [
    "def select_make():\n",
    "    dropdown = driver.find_elements(By.XPATH, '//span[@class = \"drop-down\"]' )\n",
    "    make = str(input('Please write the make you want to select:  '))\n",
    "    def search_for_make(make):\n",
    "        try:\n",
    "            dropdown[0].click()\n",
    "        except:\n",
    "            pass\n",
    "        try:\n",
    "            make_ = driver.find_element(By.LINK_TEXT, make)\n",
    "            make_.click()\n",
    "            print(f\"{make} make is selected successfully!\")\n",
    "        except:\n",
    "            print(f'{make} make does not exist in this list. Please try again.')\n",
    "            return select_make()\n",
    "    search_for_make(make)"
   ]
  },
  {
   "cell_type": "markdown",
   "metadata": {},
   "source": [
    "#### After calling select_model() fucntion it will ask you to input a model of a car and then it will select it. If that make will not exit it will tell you to put the existing one."
   ]
  },
  {
   "cell_type": "code",
   "execution_count": 4,
   "metadata": {},
   "outputs": [],
   "source": [
    "def select_model():\n",
    "    dropdown = driver.find_elements(By.XPATH, '//span[@class = \"drop-down\"]' )\n",
    "    model = str(input('Please write the model you want to select:  '))\n",
    "    def search_for_model(model):\n",
    "        try:\n",
    "            dropdown[1].click()\n",
    "        except:\n",
    "            pass\n",
    "        try:\n",
    "            model_ = driver.find_element(By.LINK_TEXT, model)\n",
    "            model_.click()\n",
    "            print(f\"{model} model is selected successfully!\")\n",
    "        except:\n",
    "            print(f'{model} model does not exist in this list. Please try again.')\n",
    "            return select_model()\n",
    "    search_for_model(model)  "
   ]
  },
  {
   "cell_type": "markdown",
   "metadata": {},
   "source": [
    "#### After calling select_year_start() function below it will ask you to input the starting year of a car you want to search for and then it will select it. If that make will not exit it will tell you to put the existing one. Call the select_year_start function after calling select_make() and select_model() functions"
   ]
  },
  {
   "cell_type": "code",
   "execution_count": 5,
   "metadata": {},
   "outputs": [],
   "source": [
    "def select_year_start():\n",
    "    def scrape_years():\n",
    "        global years\n",
    "        years_dropdown = driver.find_element(By.XPATH, '//div[@class = \"filter_right\"]')\n",
    "        years = years_dropdown.find_elements(By.XPATH, ('./select'))\n",
    "    scrape_years()\n",
    "    start = str(input(\"Type in the starting year of the car:  \"))\n",
    "    def year_start(start):   \n",
    "        year_start = years[0]\n",
    "        try:\n",
    "            year_start = year_start.find_elements(By.XPATH, (\"./option\"))\n",
    "            for year in year_start:\n",
    "                if year.text == start:\n",
    "                    print(f\"{start} year is selected successfully!\")\n",
    "                    return year.click()\n",
    "            raise print(f\"{start} year does not exist. Please try again.\")\n",
    "        except:\n",
    "            return select_year_start()\n",
    "    year_start(start)"
   ]
  },
  {
   "cell_type": "markdown",
   "metadata": {},
   "source": [
    "#### After calling select_year_to() function it will ask you to input the ending year of a car you want to search for and then it will select it. If that make will not exit it will tell you to put the existing one.  Call the select_year_start function after calling select_make() and select_model() functions"
   ]
  },
  {
   "cell_type": "code",
   "execution_count": 6,
   "metadata": {},
   "outputs": [],
   "source": [
    "def select_year_to():\n",
    "    def scrape_years():\n",
    "        global years\n",
    "        years_dropdown = driver.find_element(By.XPATH, '//div[@class = \"filter_right\"]')\n",
    "        years = years_dropdown.find_elements(By.XPATH, ('./select'))    \n",
    "    scrape_years()\n",
    "    to = str(input(\"Type in the ending year of the car:  \"))\n",
    "    def year_end(year_to):   \n",
    "        year_to = years[1]\n",
    "        try:\n",
    "            year_to = year_to.find_elements(By.XPATH, (\"./option\"))\n",
    "            for year in year_to:\n",
    "                if year.text == to:\n",
    "                    print(f\"{to} year is selected successfully!\")\n",
    "                    return year.click()\n",
    "            raise print(f\"{to} year does not exist. Please try again.\")\n",
    "        except:\n",
    "            return select_year_to()\n",
    "    year_end(to)\n",
    "    "
   ]
  },
  {
   "cell_type": "code",
   "execution_count": 7,
   "metadata": {},
   "outputs": [],
   "source": [
    "def go_in_car():\n",
    "    cars = driver.find_elements(By.XPATH,'//img[@src = \"https://bidfax.info/templates/ru/dleimages/sold2.png\"]')\n",
    "    \n",
    "    for i in range(len(cars)):\n",
    "        a = (driver.find_elements(By.XPATH, '//img[@src = \"https://bidfax.info/templates/ru/dleimages/sold2.png\"]/parent::p/preceding-sibling::a'))\n",
    "        a[i].click()\n",
    "        time.sleep(1)\n",
    "        \n",
    "        driver.current_window_handle\n",
    "        driver.back()\n",
    "        time.sleep(2)\n",
    "go_in_car()\n",
    "    \n",
    "\n"
   ]
  },
  {
   "cell_type": "code",
   "execution_count": 10,
   "metadata": {},
   "outputs": [
    {
     "name": "stdout",
     "output_type": "stream",
     "text": [
      "Lexus make is selected successfully!\n",
      "Es model is selected successfully!\n",
      "2017 year is selected successfully!\n",
      "2020 year is selected successfully!\n"
     ]
    }
   ],
   "source": [
    "select_make()\n",
    "select_model()\n",
    "select_year_start()\n",
    "select_year_to()\n"
   ]
  },
  {
   "cell_type": "code",
   "execution_count": 11,
   "metadata": {},
   "outputs": [
    {
     "ename": "IndexError",
     "evalue": "list index out of range",
     "output_type": "error",
     "traceback": [
      "\u001b[0;31m---------------------------------------------------------------------------\u001b[0m",
      "\u001b[0;31mIndexError\u001b[0m                                Traceback (most recent call last)",
      "Cell \u001b[0;32mIn [11], line 1\u001b[0m\n\u001b[0;32m----> 1\u001b[0m go_in_car()\n",
      "Cell \u001b[0;32mIn [7], line 5\u001b[0m, in \u001b[0;36mgo_in_car\u001b[0;34m()\u001b[0m\n\u001b[1;32m      3\u001b[0m \u001b[39mfor\u001b[39;00m i \u001b[39min\u001b[39;00m \u001b[39mrange\u001b[39m(\u001b[39mlen\u001b[39m(cars)):\n\u001b[1;32m      4\u001b[0m     a \u001b[39m=\u001b[39m (driver\u001b[39m.\u001b[39mfind_elements(By\u001b[39m.\u001b[39mXPATH, \u001b[39m'\u001b[39m\u001b[39m//img[@src = \u001b[39m\u001b[39m\"\u001b[39m\u001b[39mhttps://bidfax.info/templates/ru/dleimages/sold2.png\u001b[39m\u001b[39m\"\u001b[39m\u001b[39m]/parent::p/preceding-sibling::a\u001b[39m\u001b[39m'\u001b[39m))\n\u001b[0;32m----> 5\u001b[0m     a[i]\u001b[39m.\u001b[39mclick()\n\u001b[1;32m      6\u001b[0m     time\u001b[39m.\u001b[39msleep(\u001b[39m1\u001b[39m)\n\u001b[1;32m      7\u001b[0m     driver\u001b[39m.\u001b[39mcurrent_window_handle\n",
      "\u001b[0;31mIndexError\u001b[0m: list index out of range"
     ]
    }
   ],
   "source": [
    "go_in_car()"
   ]
  },
  {
   "cell_type": "code",
   "execution_count": null,
   "metadata": {},
   "outputs": [],
   "source": []
  },
  {
   "cell_type": "code",
   "execution_count": null,
   "metadata": {},
   "outputs": [],
   "source": []
  }
 ],
 "metadata": {
  "kernelspec": {
   "display_name": "Python 3.11.0 64-bit",
   "language": "python",
   "name": "python3"
  },
  "language_info": {
   "codemirror_mode": {
    "name": "ipython",
    "version": 3
   },
   "file_extension": ".py",
   "mimetype": "text/x-python",
   "name": "python",
   "nbconvert_exporter": "python",
   "pygments_lexer": "ipython3",
   "version": "3.11.0"
  },
  "orig_nbformat": 4,
  "vscode": {
   "interpreter": {
    "hash": "949777d72b0d2535278d3dc13498b2535136f6dfe0678499012e853ee9abcab1"
   }
  }
 },
 "nbformat": 4,
 "nbformat_minor": 2
}
