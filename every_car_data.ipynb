{
 "cells": [
  {
   "cell_type": "code",
   "execution_count": 1,
   "metadata": {},
   "outputs": [],
   "source": [
    "from selenium.webdriver.common.by import By\n",
    "from selenium import webdriver\n",
    "from selenium.webdriver.chrome.service import Service\n",
    "from webdriver_manager.chrome import ChromeDriverManager\n",
    "import time\n",
    "import pandas as pd"
   ]
  },
  {
   "cell_type": "code",
   "execution_count": 2,
   "metadata": {},
   "outputs": [],
   "source": [
    "driver = webdriver.Chrome(service=Service(ChromeDriverManager().install()))"
   ]
  },
  {
   "cell_type": "code",
   "execution_count": 3,
   "metadata": {},
   "outputs": [],
   "source": [
    "url = 'https://en.bidfax.info/'"
   ]
  },
  {
   "cell_type": "code",
   "execution_count": 4,
   "metadata": {},
   "outputs": [],
   "source": [
    "driver.get(url)"
   ]
  },
  {
   "cell_type": "markdown",
   "metadata": {},
   "source": [
    "#### After calling select_make() function it will ask you to input a make of a car and then it will select it. If that make will not exit it will tell you to put the existing one."
   ]
  },
  {
   "cell_type": "code",
   "execution_count": 5,
   "metadata": {},
   "outputs": [],
   "source": [
    "def select_make():\n",
    "    dropdown = driver.find_elements(By.XPATH, '//span[@class = \"drop-down\"]' )\n",
    "    make = str(input('Please write the make you want to select:  '))\n",
    "    if make == '':\n",
    "        print(f'{make} make does not exist in this list. Please try again.')\n",
    "        return select_make()\n",
    "    else:\n",
    "        def search_for_make(make):\n",
    "            try:\n",
    "                dropdown[0].click()\n",
    "            except:\n",
    "                pass\n",
    "            try:\n",
    "                make_ = driver.find_element(By.LINK_TEXT, make)\n",
    "                make_.click()\n",
    "                print(f\"{make} make is selected successfully!\")\n",
    "            except:\n",
    "                print(f'{make} make does not exist in this list. Please try again.')\n",
    "                return select_make()\n",
    "        search_for_make(make)\n",
    "        time.sleep(1)"
   ]
  },
  {
   "cell_type": "markdown",
   "metadata": {},
   "source": [
    "#### After calling select_model() fucntion it will ask you to input a model of a car and then it will select it. If that make will not exit it will tell you to put the existing one."
   ]
  },
  {
   "cell_type": "code",
   "execution_count": 6,
   "metadata": {},
   "outputs": [],
   "source": [
    "def select_model():\n",
    "    dropdown = driver.find_elements(By.XPATH, '//span[@class = \"drop-down\"]' )\n",
    "    model = str(input('Please write the model you want to select:  '))\n",
    "    if model == '':\n",
    "        print(f'{model} model does not exist in this list. Please try again.')\n",
    "        return select_model()\n",
    "    else:    \n",
    "        def search_for_model(model):\n",
    "            try:\n",
    "                dropdown[1].click()\n",
    "            except:\n",
    "                pass\n",
    "            try:\n",
    "                model_ = driver.find_element(By.LINK_TEXT, model)\n",
    "                model_.click()\n",
    "                print(f\"{model} model is selected successfully!\")\n",
    "            except:\n",
    "                print(f'{model} model does not exist in this list. Please try again.')\n",
    "                return select_model()\n",
    "        search_for_model(model)  \n",
    "        time.sleep(1)"
   ]
  },
  {
   "cell_type": "markdown",
   "metadata": {},
   "source": [
    "#### After calling select_year_start() function below it will ask you to input the starting year of a car you want to search for and then it will select it. If that make will not exit it will tell you to put the existing one. Call the select_year_start function after calling select_make() and select_model() functions"
   ]
  },
  {
   "cell_type": "code",
   "execution_count": 7,
   "metadata": {},
   "outputs": [],
   "source": [
    "def select_year_start():\n",
    "    def scrape_years():\n",
    "        global years\n",
    "        years_dropdown = driver.find_element(By.XPATH, '//div[@class = \"filter_right\"]')\n",
    "        years = years_dropdown.find_elements(By.XPATH, ('./select'))\n",
    "    scrape_years()\n",
    "    start = str(input(\"Type in the starting year of the car:  \"))\n",
    "    def year_start(start):   \n",
    "        year_start = years[0]\n",
    "        try:\n",
    "            year_start = year_start.find_elements(By.XPATH, (\"./option\"))\n",
    "            for year in year_start:\n",
    "                if year.text == start:\n",
    "                    print(f\"{start} year is selected successfully!\")\n",
    "                    return year.click()\n",
    "            raise print(f\"{start} year does not exist. Please try again.\")\n",
    "        except:\n",
    "            return select_year_start()\n",
    "    year_start(start)\n",
    "    time.sleep(1)"
   ]
  },
  {
   "cell_type": "markdown",
   "metadata": {},
   "source": [
    "#### After calling select_year_to() function it will ask you to input the ending year of a car you want to search for and then it will select it. If that make will not exit it will tell you to put the existing one.  Call the select_year_start function after calling select_make() and select_model() functions"
   ]
  },
  {
   "cell_type": "code",
   "execution_count": 8,
   "metadata": {},
   "outputs": [],
   "source": [
    "def select_year_to():\n",
    "    def scrape_years():\n",
    "        global years\n",
    "        years_dropdown = driver.find_element(By.XPATH, '//div[@class = \"filter_right\"]')\n",
    "        years = years_dropdown.find_elements(By.XPATH, ('./select'))    \n",
    "    scrape_years()\n",
    "    to = str(input(\"Type in the ending year of the car:  \"))\n",
    "    def year_end(year_to):   \n",
    "        year_to = years[1]\n",
    "        try:\n",
    "            year_to = year_to.find_elements(By.XPATH, (\"./option\"))\n",
    "            for year in year_to:\n",
    "                if year.text == to:\n",
    "                    print(f\"{to} year is selected successfully!\")\n",
    "                    return year.click()\n",
    "            raise print(f\"{to} year does not exist. Please try again.\")\n",
    "        except:\n",
    "            return select_year_to()\n",
    "    year_end(to)\n",
    "    time.sleep(1)\n",
    "    "
   ]
  },
  {
   "cell_type": "code",
   "execution_count": 9,
   "metadata": {},
   "outputs": [],
   "source": [
    "def scrape_page():\n",
    "    global data\n",
    "        \n",
    "    lot_number = []; date_of_sale = []; year = []; vin = []\n",
    "    condition = []; engine = []; mileage = []; documents = []\n",
    "    location = []; primary_damage = []; secondary_damage = []\n",
    "    estimated_retail_value = [];estimated_repair_cost = []\n",
    "    transmission = []; body_color = [];drive = []; fuel = []\n",
    "    keys = []; notes = []; avg_price = []; vehicles = []\n",
    "    price = []; market = []; seller = []\n",
    "    \n",
    "    def scrape_data():\n",
    "        global info, info_p, auction, columns, data\n",
    "        info = driver.find_elements(By.XPATH, '//span[@class = \"blackfont\"]')\n",
    "        info_p = driver.find_element(By.XPATH, '//span[@class = \"prices\"]')\n",
    "        auction = driver.find_element(By.XPATH, '//p[@class =\"short-story\"]/child::span')   \n",
    "\n",
    "\n",
    "        data = [vehicles, avg_price, lot_number, date_of_sale, \n",
    "                year, vin, condition, engine, mileage,  \n",
    "                documents, location, primary_damage, \n",
    "                secondary_damage, estimated_retail_value, \n",
    "                estimated_repair_cost, transmission, body_color,\n",
    "                drive, fuel, keys, notes, seller, price, market] \n",
    "        columns = ['vehicles', 'avg_price', 'lot_number', 'date_of_sale', \n",
    "                   'year', 'vin', 'condition', 'engine', 'mileage', \n",
    "                   'documents', 'location', 'primary_damage', 'secondary_damage', \n",
    "                   'estimated_retail_value', 'estimated_repair_cost', \n",
    "                   'transmission', 'body_color','drive', 'fuel', 'keys', \n",
    "                   'notes','seller', 'price', 'market']   \n",
    "    \n",
    "    def adding_data_to_lists():\n",
    "        scrape_data()\n",
    "        price.append(info_p.text)\n",
    "        market.append(auction.text)\n",
    "        count_ = 0\n",
    "        if auction.text == ' Copart ':\n",
    "            data[21].append(info[9].text)\n",
    "            for i in (info[:9]+info[10:22]):\n",
    "                data[count_].append(i.text)\n",
    "                count_ += 1  \n",
    "        else:\n",
    "            seller_ = driver.find_element(By.XPATH, '//p[@class = \"iaaiseller\"]')\n",
    "            data[21].append(seller_.text)\n",
    "            for i in info[:21]:\n",
    "                data[count_].append(i.text)\n",
    "                count_ += 1\n",
    "    def go_in_car():\n",
    "        driver.current_window_handle\n",
    "        sold_cars_count = driver.find_elements(By.XPATH, '//img[@src = \"https://bidfax.info/templates/ru/dleimages/sold2.png\"]/../preceding-sibling::a')\n",
    "        for i in range(len(sold_cars_count) - 1):\n",
    "            sold_cars = driver.find_elements(By.XPATH, '//img[@src = \"https://bidfax.info/templates/ru/dleimages/sold2.png\"]/../preceding-sibling::a')\n",
    "            sold_cars[i].click()\n",
    "            time.sleep(3)\n",
    "            adding_data_to_lists()\n",
    "            driver.current_window_handle\n",
    "            driver.back()\n",
    "            time.sleep(3)\n",
    "    go_in_car()\n"
   ]
  },
  {
   "cell_type": "code",
   "execution_count": 10,
   "metadata": {},
   "outputs": [],
   "source": [
    "def create_df():\n",
    "    driver.refresh()\n",
    "    scrape_page()\n",
    "    df_data = {}\n",
    "    for i, j in zip(columns, data):\n",
    "        df_data[i]= j\n",
    "    global df\n",
    "    df = pd.DataFrame(df_data)\n",
    "    time.sleep(10)\n"
   ]
  },
  {
   "cell_type": "code",
   "execution_count": 11,
   "metadata": {},
   "outputs": [],
   "source": [
    "def add_next_pages(count):\n",
    "    def next_page():\n",
    "        next_page = driver.find_element(By.LINK_TEXT, '»')\n",
    "        next_page.click()\n",
    "        time.sleep(10)\n",
    "    def add_to_df():\n",
    "        scrape_page()\n",
    "        df_data = {}\n",
    "        global df\n",
    "        for i, j in zip(columns, data):\n",
    "            df_data[i] = j\n",
    "        df1 = pd.DataFrame(df_data)\n",
    "        df = df.append(df1)\n",
    "        df = df.reset_index(drop = True)\n",
    "    for i in range(int(count)):\n",
    "        next_page()\n",
    "        add_to_df()"
   ]
  },
  {
   "cell_type": "code",
   "execution_count": 12,
   "metadata": {},
   "outputs": [
    {
     "name": "stdout",
     "output_type": "stream",
     "text": [
      " make does not exist in this list. Please try again.\n",
      "aaa make does not exist in this list. Please try again.\n",
      "Volkswagen make is selected successfully!\n"
     ]
    }
   ],
   "source": [
    "select_make()"
   ]
  },
  {
   "cell_type": "code",
   "execution_count": 13,
   "metadata": {},
   "outputs": [
    {
     "name": "stdout",
     "output_type": "stream",
     "text": [
      " model does not exist in this list. Please try again.\n",
      "aaa model does not exist in this list. Please try again.\n",
      "Gti model is selected successfully!\n"
     ]
    }
   ],
   "source": [
    "select_model()"
   ]
  },
  {
   "cell_type": "code",
   "execution_count": 14,
   "metadata": {},
   "outputs": [
    {
     "name": "stdout",
     "output_type": "stream",
     "text": [
      " year does not exist. Please try again.\n",
      "aaa year does not exist. Please try again.\n",
      "2017 year is selected successfully!\n"
     ]
    }
   ],
   "source": [
    "select_year_start()"
   ]
  },
  {
   "cell_type": "code",
   "execution_count": 15,
   "metadata": {},
   "outputs": [
    {
     "name": "stdout",
     "output_type": "stream",
     "text": [
      " year does not exist. Please try again.\n",
      "aaa year does not exist. Please try again.\n",
      "2020 year is selected successfully!\n"
     ]
    }
   ],
   "source": [
    "select_year_to()"
   ]
  },
  {
   "cell_type": "code",
   "execution_count": 16,
   "metadata": {},
   "outputs": [],
   "source": [
    "create_df()"
   ]
  },
  {
   "cell_type": "code",
   "execution_count": 17,
   "metadata": {},
   "outputs": [
    {
     "name": "stderr",
     "output_type": "stream",
     "text": [
      "/var/folders/7_/hrpf2wd52k91vfg1qd2m7ch80000gn/T/ipykernel_95020/1723988589.py:13: FutureWarning: The frame.append method is deprecated and will be removed from pandas in a future version. Use pandas.concat instead.\n",
      "  df = df.append(df1)\n"
     ]
    }
   ],
   "source": [
    "add_next_pages(3)"
   ]
  },
  {
   "cell_type": "code",
   "execution_count": 19,
   "metadata": {},
   "outputs": [
    {
     "data": {
      "text/html": [
       "<div>\n",
       "<style scoped>\n",
       "    .dataframe tbody tr th:only-of-type {\n",
       "        vertical-align: middle;\n",
       "    }\n",
       "\n",
       "    .dataframe tbody tr th {\n",
       "        vertical-align: top;\n",
       "    }\n",
       "\n",
       "    .dataframe thead th {\n",
       "        text-align: right;\n",
       "    }\n",
       "</style>\n",
       "<table border=\"1\" class=\"dataframe\">\n",
       "  <thead>\n",
       "    <tr style=\"text-align: right;\">\n",
       "      <th></th>\n",
       "      <th>vehicles</th>\n",
       "      <th>avg_price</th>\n",
       "      <th>lot_number</th>\n",
       "      <th>date_of_sale</th>\n",
       "      <th>year</th>\n",
       "      <th>vin</th>\n",
       "      <th>condition</th>\n",
       "      <th>engine</th>\n",
       "      <th>mileage</th>\n",
       "      <th>documents</th>\n",
       "      <th>...</th>\n",
       "      <th>estimated_repair_cost</th>\n",
       "      <th>transmission</th>\n",
       "      <th>body_color</th>\n",
       "      <th>drive</th>\n",
       "      <th>fuel</th>\n",
       "      <th>keys</th>\n",
       "      <th>notes</th>\n",
       "      <th>seller</th>\n",
       "      <th>price</th>\n",
       "      <th>market</th>\n",
       "    </tr>\n",
       "  </thead>\n",
       "  <tbody>\n",
       "    <tr>\n",
       "      <th>0</th>\n",
       "      <td>58</td>\n",
       "      <td>$6541</td>\n",
       "      <td>71574332</td>\n",
       "      <td>15.03.2023</td>\n",
       "      <td>2018</td>\n",
       "      <td>3VW447AU1JM260953</td>\n",
       "      <td>Run And Drive</td>\n",
       "      <td>2 L 4</td>\n",
       "      <td>90533 miles (Actual)</td>\n",
       "      <td>Tx - Salvage Vehicle Title</td>\n",
       "      <td>...</td>\n",
       "      <td>20128</td>\n",
       "      <td>Automatic</td>\n",
       "      <td>Black</td>\n",
       "      <td>Front-Wheel Drive</td>\n",
       "      <td>Gas</td>\n",
       "      <td>Yes</td>\n",
       "      <td>Not specified</td>\n",
       "      <td>Not specified</td>\n",
       "      <td>7400</td>\n",
       "      <td>Copart</td>\n",
       "    </tr>\n",
       "    <tr>\n",
       "      <th>1</th>\n",
       "      <td>38</td>\n",
       "      <td>$7670</td>\n",
       "      <td>41964373</td>\n",
       "      <td>03.03.2023</td>\n",
       "      <td>2020</td>\n",
       "      <td>3VW5T7AUXLM000819</td>\n",
       "      <td>Run And Drive</td>\n",
       "      <td>2.0L 4</td>\n",
       "      <td>18720 miles (Actual)</td>\n",
       "      <td>Pa - Reconstructed Clean</td>\n",
       "      <td>...</td>\n",
       "      <td>0</td>\n",
       "      <td>Manual</td>\n",
       "      <td>Charcoal</td>\n",
       "      <td>Front-Wheel Drive</td>\n",
       "      <td>Gas</td>\n",
       "      <td>Yes</td>\n",
       "      <td>Not specified</td>\n",
       "      <td>Not specified</td>\n",
       "      <td>11500</td>\n",
       "      <td>Copart</td>\n",
       "    </tr>\n",
       "    <tr>\n",
       "      <th>2</th>\n",
       "      <td>175</td>\n",
       "      <td>$4584</td>\n",
       "      <td>41350703</td>\n",
       "      <td>15.03.2023</td>\n",
       "      <td>2017</td>\n",
       "      <td>3VW547AU3HM072191</td>\n",
       "      <td>Not specified</td>\n",
       "      <td>2 L 4</td>\n",
       "      <td>60517 miles (Actual)</td>\n",
       "      <td>Wi - Cert Of Title-Salvage Vehicle</td>\n",
       "      <td>...</td>\n",
       "      <td>12612</td>\n",
       "      <td>Manual</td>\n",
       "      <td>Blue</td>\n",
       "      <td>Front-Wheel Drive</td>\n",
       "      <td>Gas</td>\n",
       "      <td>No</td>\n",
       "      <td>Not specified</td>\n",
       "      <td>Not specified</td>\n",
       "      <td>5700</td>\n",
       "      <td>Copart</td>\n",
       "    </tr>\n",
       "    <tr>\n",
       "      <th>3</th>\n",
       "      <td>51</td>\n",
       "      <td>$7225</td>\n",
       "      <td>40053243</td>\n",
       "      <td>14.03.2023</td>\n",
       "      <td>2019</td>\n",
       "      <td>3VW6T7AUXKM002086</td>\n",
       "      <td>Run And Drive</td>\n",
       "      <td>2.0L 4</td>\n",
       "      <td>31514 miles (Actual)</td>\n",
       "      <td>Fl - Certificate Of Destruction</td>\n",
       "      <td>...</td>\n",
       "      <td>27572</td>\n",
       "      <td>Automatic</td>\n",
       "      <td>White</td>\n",
       "      <td>Front-Wheel Drive</td>\n",
       "      <td>Gas</td>\n",
       "      <td>Yes</td>\n",
       "      <td>Not specified</td>\n",
       "      <td>Not specified</td>\n",
       "      <td>7300</td>\n",
       "      <td>Copart</td>\n",
       "    </tr>\n",
       "    <tr>\n",
       "      <th>4</th>\n",
       "      <td>58</td>\n",
       "      <td>$6541</td>\n",
       "      <td>36728403</td>\n",
       "      <td>14.03.2023</td>\n",
       "      <td>2018</td>\n",
       "      <td>3VW547AU7JM296182</td>\n",
       "      <td>Not specified</td>\n",
       "      <td>2 L 4</td>\n",
       "      <td>0 miles (Not Actual)</td>\n",
       "      <td>Md - Cert Of Salvage &gt; 75% Damage</td>\n",
       "      <td>...</td>\n",
       "      <td>21487</td>\n",
       "      <td>Manual</td>\n",
       "      <td>White</td>\n",
       "      <td>Front-Wheel Drive</td>\n",
       "      <td>Gas</td>\n",
       "      <td>Yes</td>\n",
       "      <td>Not specified</td>\n",
       "      <td>Not specified</td>\n",
       "      <td>625</td>\n",
       "      <td>Copart</td>\n",
       "    </tr>\n",
       "  </tbody>\n",
       "</table>\n",
       "<p>5 rows × 24 columns</p>\n",
       "</div>"
      ],
      "text/plain": [
       "  vehicles avg_price lot_number date_of_sale  year                vin  \\\n",
       "0       58     $6541   71574332   15.03.2023  2018  3VW447AU1JM260953   \n",
       "1       38     $7670   41964373   03.03.2023  2020  3VW5T7AUXLM000819   \n",
       "2      175     $4584   41350703   15.03.2023  2017  3VW547AU3HM072191   \n",
       "3       51     $7225   40053243   14.03.2023  2019  3VW6T7AUXKM002086   \n",
       "4       58     $6541   36728403   14.03.2023  2018  3VW547AU7JM296182   \n",
       "\n",
       "       condition  engine               mileage  \\\n",
       "0  Run And Drive   2 L 4  90533 miles (Actual)   \n",
       "1  Run And Drive  2.0L 4  18720 miles (Actual)   \n",
       "2  Not specified   2 L 4  60517 miles (Actual)   \n",
       "3  Run And Drive  2.0L 4  31514 miles (Actual)   \n",
       "4  Not specified   2 L 4  0 miles (Not Actual)   \n",
       "\n",
       "                            documents  ... estimated_repair_cost transmission  \\\n",
       "0          Tx - Salvage Vehicle Title  ...                 20128    Automatic   \n",
       "1            Pa - Reconstructed Clean  ...                     0       Manual   \n",
       "2  Wi - Cert Of Title-Salvage Vehicle  ...                 12612       Manual   \n",
       "3     Fl - Certificate Of Destruction  ...                 27572    Automatic   \n",
       "4   Md - Cert Of Salvage > 75% Damage  ...                 21487       Manual   \n",
       "\n",
       "  body_color              drive fuel keys          notes          seller  \\\n",
       "0      Black  Front-Wheel Drive  Gas  Yes  Not specified   Not specified   \n",
       "1   Charcoal  Front-Wheel Drive  Gas  Yes  Not specified   Not specified   \n",
       "2       Blue  Front-Wheel Drive  Gas   No  Not specified   Not specified   \n",
       "3      White  Front-Wheel Drive  Gas  Yes  Not specified   Not specified   \n",
       "4      White  Front-Wheel Drive  Gas  Yes  Not specified   Not specified   \n",
       "\n",
       "   price    market  \n",
       "0   7400   Copart   \n",
       "1  11500   Copart   \n",
       "2   5700   Copart   \n",
       "3   7300   Copart   \n",
       "4    625   Copart   \n",
       "\n",
       "[5 rows x 24 columns]"
      ]
     },
     "execution_count": 19,
     "metadata": {},
     "output_type": "execute_result"
    }
   ],
   "source": [
    "df.head()"
   ]
  },
  {
   "cell_type": "code",
   "execution_count": 20,
   "metadata": {},
   "outputs": [],
   "source": [
    "driver.close()"
   ]
  }
 ],
 "metadata": {
  "kernelspec": {
   "display_name": "Python 3.11.0 64-bit",
   "language": "python",
   "name": "python3"
  },
  "language_info": {
   "codemirror_mode": {
    "name": "ipython",
    "version": 3
   },
   "file_extension": ".py",
   "mimetype": "text/x-python",
   "name": "python",
   "nbconvert_exporter": "python",
   "pygments_lexer": "ipython3",
   "version": "3.11.0"
  },
  "orig_nbformat": 4,
  "vscode": {
   "interpreter": {
    "hash": "949777d72b0d2535278d3dc13498b2535136f6dfe0678499012e853ee9abcab1"
   }
  }
 },
 "nbformat": 4,
 "nbformat_minor": 2
}
